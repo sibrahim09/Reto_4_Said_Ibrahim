{
 "cells": [
  {
   "cell_type": "code",
   "execution_count": null,
   "metadata": {},
   "outputs": [],
   "source": [
    "# Algoritmo que dado un numero entero, determinar si ese numero corresponde al codigo ASCII de una vocal minuscula.\n",
    "\n",
    "num_entero: int\n",
    "num_entero = input(\"Ingrese un numero entero: \")\n",
    "    \n",
    "match num_entero:\n",
    "    case \"97\":\n",
    "        print(\"El numero 97 corresponde a la vocal minuscula a\")\n",
    "    case \"101\":\n",
    "        print(\"El numero 101 corresponde a la vocal minuscula e\")\n",
    "    case \"105\":\n",
    "        print(\"El numero 105 corresponde a la vocal minuscula i\")\n",
    "    case \"111\":\n",
    "        print(\"El numero 111 corresponde a la vocal minuscula o\")\n",
    "    case \"117\":\n",
    "        print(\"El numero 117 corresponde a la vocal minuscula u\")\n",
    "    case _:\n",
    "      print(\"El numero ingresado no corresponde a ninguna vocal minuscula.\")"
   ]
  },
  {
   "cell_type": "code",
   "execution_count": 1,
   "metadata": {},
   "outputs": [
    {
     "ename": "IndexError",
     "evalue": "string index out of range",
     "output_type": "error",
     "traceback": [
      "\u001b[1;31m---------------------------------------------------------------------------\u001b[0m",
      "\u001b[1;31mIndexError\u001b[0m                                Traceback (most recent call last)",
      "Cell \u001b[1;32mIn[1], line 6\u001b[0m\n\u001b[0;32m      3\u001b[0m texto: \u001b[38;5;28mstr\u001b[39m\n\u001b[0;32m      5\u001b[0m texto \u001b[38;5;241m=\u001b[39m \u001b[38;5;28minput\u001b[39m(\u001b[38;5;124m\"\u001b[39m\u001b[38;5;124mIngrese un texto: \u001b[39m\u001b[38;5;124m\"\u001b[39m)\n\u001b[1;32m----> 6\u001b[0m primera_letra \u001b[38;5;241m=\u001b[39m \u001b[38;5;28mord\u001b[39m(texto[\u001b[38;5;241m0\u001b[39m])\n\u001b[0;32m      8\u001b[0m \u001b[38;5;28;01mif\u001b[39;00m primera_letra \u001b[38;5;241m%\u001b[39m \u001b[38;5;241m2\u001b[39m \u001b[38;5;241m==\u001b[39m \u001b[38;5;241m0\u001b[39m:\n\u001b[0;32m      9\u001b[0m     \u001b[38;5;28mprint\u001b[39m(\u001b[38;5;124m\"\u001b[39m\u001b[38;5;124mEl codigo ASCII de la primera letra de la cadena es par.\u001b[39m\u001b[38;5;124m\"\u001b[39m)\n",
      "\u001b[1;31mIndexError\u001b[0m: string index out of range"
     ]
    }
   ],
   "source": [
    "#Dada una cadena de longitud 1, determine si el código ASCII de la primera letra de la cadena es par o no.\n",
    "\n",
    "\n",
    "\n",
    "texto = input(\"Ingrese un texto: \")\n",
    "primera_letra = ord(texto[0])\n",
    "\n",
    "if primera_letra % 2 == 0:\n",
    "    print(\"El codigo ASCII de la primera letra de la cadena es par.\")\n",
    "else:\n",
    "    print(\"El codigo ASCII de la primera letra de la cadena es impar.\")"
   ]
  },
  {
   "cell_type": "code",
   "execution_count": null,
   "metadata": {},
   "outputs": [],
   "source": [
    "# Dado un caracter, construya un programa en Python para determinar si el caracter es un digito o no.\n",
    "\n",
    "caracter: str\n",
    "caracter = input(\"Ingresa un caracter:\")\n",
    "\n",
    "match caracter:\n",
    "    case \"0\":\n",
    "        print(\"El caracter\" ,caracter, \"es un digito\")\n",
    "    case \"1\":\n",
    "        print(\"El caracter\" ,caracter, \"es un digito\")\n",
    "    case \"2\":\n",
    "        print(\"El caracter\" ,caracter, \"es un digito\")\n",
    "    case \"3\":\n",
    "        print(\"El caracter\" ,caracter, \"es un digito\")\n",
    "    case \"4\":\n",
    "        print(\"El caracter\" ,caracter, \"es un digito\")\n",
    "    case \"5\":\n",
    "        print(\"El caracter\" ,caracter, \"es un digito\")\n",
    "    case \"6\":\n",
    "        print(\"El caracter\" ,caracter, \"es un digito\")\n",
    "    case \"7\":\n",
    "        print(\"El caracter\" ,caracter, \"es un digito\")\n",
    "    case \"8\":\n",
    "        print(\"El caracter\" ,caracter, \"es un digito\")\n",
    "    case \"9\":\n",
    "        print(\"El caracter\" ,caracter, \"es un digito\")\n",
    "    case _:\n",
    "        print(\"El caracter\" ,caracter, \"no es un digito\")"
   ]
  },
  {
   "cell_type": "code",
   "execution_count": null,
   "metadata": {},
   "outputs": [],
   "source": [
    "#Dado un numero real x, construya un programa que permita determinar si el numero es positivo, negativo o cero.\n",
    "\n",
    "num_real: int\n",
    "num_real = int(input(\"Ingrese un numero real: \"))\n",
    "\n",
    "if num_real > 0:\n",
    "    print(\"El numero \" + str(num_real) + \" es positivo\")\n",
    "elif num_real < 0:\n",
    "    print(\"El numero \" + str(num_real) + \" es negativo\")\n",
    "else:\n",
    "    if num_real == 0: \n",
    "        print(\"El numero \" + str(num_real) + \" es el neutro para la suma\")"
   ]
  },
  {
   "cell_type": "code",
   "execution_count": null,
   "metadata": {},
   "outputs": [],
   "source": [
    "#Dado el centro y el radio de un circulo, determinar si un punto de R2 pertenece o no al interior del círculo.\n",
    "\n",
    "radio = float(input(\"Ingresa el radio del circulo: \"))\n",
    "centro_en_x = float(input(\"Ingresa la ubicacion del centro del circulo en x: \"))\n",
    "centro_en_y = float(input(\"Ingresa la ubicacion del centro del circulo en y: \"))\n",
    "punto_en_x = float(input(\"Ingresa el punto x: \"))\n",
    "punto_en_y = float(input(\"Ingresa el punto en y: \"))\n",
    "\n",
    "distancia = ((punto_en_x - centro_en_x)**(2) + (punto_en_y - centro_en_y)**(2))**(1/2)\n",
    "\n",
    "if distancia <= (radio):\n",
    "    print(\"El punto ( \" +str(punto_en_x)+\" , \"+str(punto_en_y)+\" ) esta ubicado dentro del circulo con radio \" + str(radio) + \" y centro en ( \" + str(centro_en_x)+\" , \"+ str(centro_en_y)+\" ).\")\n",
    "else:\n",
    "    if distancia > (radio):\n",
    "        print(\"El punto ( \" +str(punto_en_x)+\" , \"+str(punto_en_y)+\" ) no esta ubicado dentro del circulo.\")"
   ]
  },
  {
   "cell_type": "code",
   "execution_count": null,
   "metadata": {},
   "outputs": [],
   "source": [
    "#Dadas tres longitudes positivas, determinar si con esas longitudes se puede construir un triángulo.\n",
    "\n",
    "lado_1 = float(input(\"Ingresa un valor para el lado 1: \"))\n",
    "lado_2 = float(input(\"Ingresa un valor para el lado 2: \"))\n",
    "lado_3 = float(input(\"Ingresa un valor para el lado 3: \"))\n",
    "\n",
    "if (lado_1 + lado_2) > lado_3:\n",
    "    if (lado_2 + lado_3) > lado_1:\n",
    "        if(lado_1 + lado_3) > lado_2:\n",
    "            print(\"Los lados ingresados permiten crear un triangulo.\")\n",
    "        else:\n",
    "            print(\"Los lados ingresados no permiten crear un triangulo.\")\n"
   ]
  }
 ],
 "metadata": {
  "kernelspec": {
   "display_name": "base",
   "language": "python",
   "name": "python3"
  },
  "language_info": {
   "codemirror_mode": {
    "name": "ipython",
    "version": 3
   },
   "file_extension": ".py",
   "mimetype": "text/x-python",
   "name": "python",
   "nbconvert_exporter": "python",
   "pygments_lexer": "ipython3",
   "version": "3.11.5"
  }
 },
 "nbformat": 4,
 "nbformat_minor": 2
}
